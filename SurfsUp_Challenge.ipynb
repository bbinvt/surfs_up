{
 "cells": [
  {
   "cell_type": "code",
   "execution_count": 1,
   "metadata": {},
   "outputs": [],
   "source": [
    "# Dependencies\n",
    "import numpy as np\n",
    "\n",
    "# Python SQL toolkit and Object Relational Mapper\n",
    "import sqlalchemy\n",
    "from sqlalchemy.ext.automap import automap_base\n",
    "from sqlalchemy.orm import Session\n",
    "from sqlalchemy import create_engine, func, inspect"
   ]
  },
  {
   "cell_type": "code",
   "execution_count": 2,
   "metadata": {},
   "outputs": [],
   "source": [
    "engine = create_engine(\"sqlite:///hawaii.sqlite\")\n",
    "\n",
    "# reflect an existing database into a new model\n",
    "Base = automap_base()\n",
    "# reflect the tables\n",
    "Base.prepare(engine, reflect=True)\n",
    "\n",
    "# Save references to each table\n",
    "Measurement = Base.classes.measurement\n",
    "Station = Base.classes.station"
   ]
  },
  {
   "cell_type": "code",
   "execution_count": 3,
   "metadata": {},
   "outputs": [],
   "source": [
    "# Create our session (link) from Python to the DB\n",
    "session = Session(engine)"
   ]
  },
  {
   "cell_type": "code",
   "execution_count": 4,
   "metadata": {},
   "outputs": [
    {
     "data": {
      "text/plain": [
       "[{'name': 'id',\n",
       "  'type': INTEGER(),\n",
       "  'nullable': False,\n",
       "  'default': None,\n",
       "  'autoincrement': 'auto',\n",
       "  'primary_key': 1},\n",
       " {'name': 'station',\n",
       "  'type': TEXT(),\n",
       "  'nullable': True,\n",
       "  'default': None,\n",
       "  'autoincrement': 'auto',\n",
       "  'primary_key': 0},\n",
       " {'name': 'date',\n",
       "  'type': TEXT(),\n",
       "  'nullable': True,\n",
       "  'default': None,\n",
       "  'autoincrement': 'auto',\n",
       "  'primary_key': 0},\n",
       " {'name': 'prcp',\n",
       "  'type': FLOAT(),\n",
       "  'nullable': True,\n",
       "  'default': None,\n",
       "  'autoincrement': 'auto',\n",
       "  'primary_key': 0},\n",
       " {'name': 'tobs',\n",
       "  'type': FLOAT(),\n",
       "  'nullable': True,\n",
       "  'default': None,\n",
       "  'autoincrement': 'auto',\n",
       "  'primary_key': 0}]"
      ]
     },
     "execution_count": 4,
     "metadata": {},
     "output_type": "execute_result"
    }
   ],
   "source": [
    "inspector = inspect(engine)\n",
    "columns = inspector.get_columns('measurement')\n",
    "columns"
   ]
  },
  {
   "cell_type": "markdown",
   "metadata": {},
   "source": [
    "## D1: Determine the Summary Statistics for June"
   ]
  },
  {
   "cell_type": "code",
   "execution_count": 5,
   "metadata": {},
   "outputs": [
    {
     "name": "stdout",
     "output_type": "stream",
     "text": [
      "1700\n"
     ]
    }
   ],
   "source": [
    "# Import the sqlalchemy extract function.\n",
    "from sqlalchemy import extract\n",
    "\n",
    "# 1. Write a query that filters the Measurement table to retrieve the temperatures for the month of June. \n",
    "\n",
    "# I am going to import date time and create two time variables. If I use this method I should be able to write\n",
    "# a function that accepts dates and I can easily reuse when analysing the December data too\n",
    "\n",
    "month = 6\n",
    "\n",
    "def temp_extract(month):\n",
    "    \n",
    "    # Extract the desired data\n",
    "    data = session.query(Measurement.date, Measurement.tobs).filter(extract('month', Measurement.date)== month).all()\n",
    "\n",
    "    print(len(data))\n",
    "\n",
    "temp_extract(month)"
   ]
  },
  {
   "cell_type": "code",
   "execution_count": 6,
   "metadata": {},
   "outputs": [
    {
     "name": "stdout",
     "output_type": "stream",
     "text": [
      "1700\n"
     ]
    }
   ],
   "source": [
    "# 2. Convert the June temperatures to a list.\n",
    "\n",
    "# I can continue to modify my function to include a statement to convert the data to a list. \n",
    "\n",
    "def temp_extract(month):\n",
    "    \n",
    "    # Extract the desired data\n",
    "    data = session.query(Measurement.date, Measurement.tobs).filter(extract('month', Measurement.date)== month).all()\n",
    "\n",
    "    # Convert the data format to a list\n",
    "    list_data = list(data)\n",
    "    \n",
    "    print(len(list_data))\n",
    "temp_extract(6)"
   ]
  },
  {
   "cell_type": "code",
   "execution_count": 7,
   "metadata": {},
   "outputs": [
    {
     "name": "stdout",
     "output_type": "stream",
     "text": [
      "            Date  Temps\n",
      "0     2010-06-01   78.0\n",
      "1     2010-06-02   76.0\n",
      "2     2010-06-03   78.0\n",
      "3     2010-06-04   76.0\n",
      "4     2010-06-05   77.0\n",
      "...          ...    ...\n",
      "1695  2017-06-26   79.0\n",
      "1696  2017-06-27   74.0\n",
      "1697  2017-06-28   74.0\n",
      "1698  2017-06-29   76.0\n",
      "1699  2017-06-30   75.0\n",
      "\n",
      "[1700 rows x 2 columns]\n"
     ]
    }
   ],
   "source": [
    "# 3. Create a DataFrame from the list of temperatures for the month of June. \n",
    "\n",
    "# Continuing my theme I am going to add another element to my function, convert to a dataframe\n",
    "import pandas as pd\n",
    "\n",
    "def temp_extract(month):\n",
    "    \n",
    "    # Extract the desired data\n",
    "    data = session.query(Measurement.date, Measurement.tobs).filter(extract('month', Measurement.date)== month).all()\n",
    "\n",
    "    # Convert the data format to a list\n",
    "    list_data = list(data)\n",
    "    \n",
    "    # Convert list to data frame \n",
    "    data_df = pd.DataFrame(list_data, columns=['Date', 'Temps'])\n",
    "    \n",
    "    print(data_df)\n",
    "    \n",
    "temp_extract(6)"
   ]
  },
  {
   "cell_type": "code",
   "execution_count": 8,
   "metadata": {},
   "outputs": [
    {
     "name": "stdout",
     "output_type": "stream",
     "text": [
      "             Temps\n",
      "count  1700.000000\n",
      "mean     74.944118\n",
      "std       3.257417\n",
      "min      64.000000\n",
      "25%      73.000000\n",
      "50%      75.000000\n",
      "75%      77.000000\n",
      "max      85.000000\n"
     ]
    }
   ],
   "source": [
    "# 4. Calculate and print out the summary statistics for the June temperature DataFrame.\n",
    "\n",
    "def temp_extract(month):\n",
    "    \n",
    "    # Extract the desired data\n",
    "    data = session.query(Measurement.date, Measurement.tobs).filter(extract('month', Measurement.date)== month).all()\n",
    "\n",
    "    # Convert the data format to a list\n",
    "    list_data = list(data)\n",
    "    \n",
    "    # Convert list to data frame \n",
    "    data_df = pd.DataFrame(list_data, columns=['Date', 'Temps'])\n",
    "    \n",
    "    # Print Summary Statistics\n",
    "    print(data_df.describe())\n",
    "    \n",
    "temp_extract(6)"
   ]
  },
  {
   "cell_type": "code",
   "execution_count": null,
   "metadata": {},
   "outputs": [],
   "source": [
    "# 5. Return to your challenge instructions to compare your summary statistics\n",
    "\n",
    "# My summary statistics matched, which means my function is working and I can solve\n",
    "# deliverable 2 with one line of code!"
   ]
  },
  {
   "cell_type": "markdown",
   "metadata": {},
   "source": [
    "## D2: Determine the Summary Statistics for December"
   ]
  },
  {
   "cell_type": "code",
   "execution_count": null,
   "metadata": {},
   "outputs": [],
   "source": [
    "# 6. Write a query that filters the Measurement table to retrieve the temperatures for the month of December.\n"
   ]
  },
  {
   "cell_type": "code",
   "execution_count": null,
   "metadata": {},
   "outputs": [],
   "source": [
    "# 7. Convert the December temperatures to a list.\n"
   ]
  },
  {
   "cell_type": "code",
   "execution_count": null,
   "metadata": {},
   "outputs": [],
   "source": [
    "# 8. Create a DataFrame from the list of temperatures for the month of December. \n"
   ]
  },
  {
   "cell_type": "code",
   "execution_count": 9,
   "metadata": {},
   "outputs": [
    {
     "name": "stdout",
     "output_type": "stream",
     "text": [
      "             Temps\n",
      "count  1517.000000\n",
      "mean     71.041529\n",
      "std       3.745920\n",
      "min      56.000000\n",
      "25%      69.000000\n",
      "50%      71.000000\n",
      "75%      74.000000\n",
      "max      83.000000\n"
     ]
    }
   ],
   "source": [
    "# 9. Calculate and print out the summary statistics for the Decemeber temperature DataFrame.\n",
    "\n",
    "# See the work & documentation completed in Deliverable 1 to see the inner workings of the\n",
    "# temp_extract function. \n",
    "\n",
    "temp_extract(12)\n"
   ]
  },
  {
   "cell_type": "code",
   "execution_count": null,
   "metadata": {},
   "outputs": [],
   "source": [
    "# 10. Return to your challenge instructions to compare your summary statistics\n",
    "\n",
    "# Success! My summary results match those of the instructions."
   ]
  }
 ],
 "metadata": {
  "kernelspec": {
   "display_name": "Python 3 (ipykernel)",
   "language": "python",
   "name": "python3"
  },
  "language_info": {
   "codemirror_mode": {
    "name": "ipython",
    "version": 3
   },
   "file_extension": ".py",
   "mimetype": "text/x-python",
   "name": "python",
   "nbconvert_exporter": "python",
   "pygments_lexer": "ipython3",
   "version": "3.8.10"
  }
 },
 "nbformat": 4,
 "nbformat_minor": 2
}
