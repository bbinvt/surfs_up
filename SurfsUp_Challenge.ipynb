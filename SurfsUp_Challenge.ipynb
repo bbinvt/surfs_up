{
 "cells": [
  {
   "cell_type": "code",
   "execution_count": 1,
   "metadata": {},
   "outputs": [],
   "source": [
    "# Dependencies\n",
    "import numpy as np\n",
    "\n",
    "# Python SQL toolkit and Object Relational Mapper\n",
    "import sqlalchemy\n",
    "from sqlalchemy.ext.automap import automap_base\n",
    "from sqlalchemy.orm import Session\n",
    "from sqlalchemy import create_engine, func, inspect"
   ]
  },
  {
   "cell_type": "code",
   "execution_count": 2,
   "metadata": {},
   "outputs": [],
   "source": [
    "engine = create_engine(\"sqlite:///hawaii.sqlite\")\n",
    "\n",
    "# reflect an existing database into a new model\n",
    "Base = automap_base()\n",
    "# reflect the tables\n",
    "Base.prepare(engine, reflect=True)\n",
    "\n",
    "# Save references to each table\n",
    "Measurement = Base.classes.measurement\n",
    "Station = Base.classes.station"
   ]
  },
  {
   "cell_type": "code",
   "execution_count": 3,
   "metadata": {},
   "outputs": [],
   "source": [
    "# Create our session (link) from Python to the DB\n",
    "session = Session(engine)"
   ]
  },
  {
   "cell_type": "code",
   "execution_count": null,
   "metadata": {},
   "outputs": [],
   "source": [
    "inspector = inspect(engine)\n",
    "columns = inspector.get_columns('measurement')\n",
    "columns"
   ]
  },
  {
   "cell_type": "markdown",
   "metadata": {},
   "source": [
    "## D1: Determine the Summary Statistics for June"
   ]
  },
  {
   "cell_type": "code",
   "execution_count": 107,
   "metadata": {},
   "outputs": [
    {
     "name": "stdout",
     "output_type": "stream",
     "text": [
      "[(78.0,), (76.0,), (78.0,), (76.0,), (77.0,), (78.0,), (77.0,), (78.0,), (78.0,), (79.0,), (78.0,), (78.0,), (78.0,), (77.0,), (78.0,), (78.0,), (77.0,), (77.0,), (82.0,), (78.0,), (78.0,), (78.0,), (78.0,), (78.0,), (77.0,), (76.0,), (78.0,), (78.0,), (78.0,), (78.0,), (77.0,), (78.0,), (73.0,), (70.0,), (76.0,), (77.0,), (77.0,), (77.0,), (77.0,), (78.0,), (77.0,), (77.0,), (78.0,), (78.0,), (77.0,), (78.0,), (78.0,), (75.0,), (76.0,), (76.0,), (77.0,), (78.0,), (76.0,), (77.0,), (75.0,), (77.0,), (76.0,), (76.0,), (75.0,), (77.0,), (77.0,), (76.0,), (78.0,), (77.0,), (76.0,), (77.0,), (76.0,), (76.0,), (77.0,), (77.0,), (78.0,), (77.0,), (77.0,), (77.0,), (76.0,), (75.0,), (76.0,), (76.0,), (77.0,), (76.0,), (73.0,), (73.0,), (75.0,), (77.0,), (76.0,), (77.0,), (79.0,), (78.0,), (79.0,), (78.0,), (78.0,), (79.0,), (77.0,), (77.0,), (77.0,), (77.0,), (77.0,), (78.0,), (77.0,), (76.0,), (78.0,), (78.0,), (77.0,), (78.0,), (78.0,), (73.0,), (76.0,), (77.0,), (75.0,), (76.0,), (74.0,), (75.0,), (77.0,), (76.0,), (77.0,), (78.0,), (79.0,), (77.0,), (78.0,), (79.0,), (78.0,), (78.0,), (78.0,), (78.0,), (79.0,), (79.0,), (82.0,), (80.0,), (79.0,), (79.0,), (78.0,), (78.0,), (77.0,), (78.0,), (78.0,), (73.0,), (75.0,), (75.0,), (76.0,), (84.0,), (79.0,), (76.0,), (79.0,), (79.0,), (77.0,), (79.0,), (78.0,), (78.0,), (79.0,), (77.0,), (79.0,), (78.0,), (78.0,), (78.0,), (79.0,), (77.0,), (78.0,), (78.0,), (78.0,), (78.0,), (79.0,), (79.0,), (77.0,), (78.0,), (78.0,), (78.0,), (79.0,), (79.0,), (77.0,), (79.0,), (79.0,), (79.0,), (81.0,), (76.0,), (80.0,), (78.0,), (76.0,), (71.0,), (71.0,), (74.0,), (76.0,), (78.0,), (77.0,), (77.0,), (73.0,), (77.0,), (78.0,), (78.0,), (80.0,), (79.0,), (78.0,), (77.0,), (76.0,), (77.0,), (77.0,), (78.0,), (80.0,), (79.0,), (79.0,), (77.0,), (78.0,), (79.0,), (80.0,), (76.0,), (79.0,), (80.0,), (79.0,), (79.0,), (79.0,), (79.0,), (80.0,), (79.0,), (79.0,), (80.0,), (80.0,), (77.0,), (79.0,), (83.0,), (80.0,), (80.0,), (78.0,), (79.0,), (80.0,), (77.0,), (80.0,), (78.0,), (79.0,), (80.0,), (78.0,), (80.0,), (80.0,), (81.0,), (80.0,), (79.0,), (79.0,), (75.0,), (74.0,), (76.0,), (75.0,), (75.0,), (74.0,), (75.0,), (75.0,), (75.0,), (75.0,), (75.0,), (83.0,), (75.0,), (76.0,), (73.0,), (74.0,), (74.0,), (75.0,), (70.0,), (74.0,), (75.0,), (75.0,), (75.0,), (75.0,), (75.0,), (74.0,), (72.0,), (76.0,), (73.0,), (75.0,), (76.0,), (74.0,), (75.0,), (71.0,), (69.0,), (69.0,), (74.0,), (71.0,), (74.0,), (74.0,), (75.0,), (73.0,), (73.0,), (73.0,), (75.0,), (75.0,), (74.0,), (74.0,), (75.0,), (74.0,), (73.0,), (72.0,), (74.0,), (72.0,), (75.0,), (76.0,), (74.0,), (74.0,), (74.0,), (74.0,), (74.0,), (71.0,), (71.0,), (75.0,), (72.0,), (72.0,), (73.0,), (73.0,), (73.0,), (74.0,), (73.0,), (72.0,), (72.0,), (70.0,), (72.0,), (72.0,), (72.0,), (74.0,), (73.0,), (73.0,), (70.0,), (73.0,), (72.0,), (73.0,), (69.0,), (72.0,), (71.0,), (71.0,), (73.0,), (73.0,), (72.0,), (75.0,), (75.0,), (75.0,), (75.0,), (74.0,), (74.0,), (74.0,), (75.0,), (75.0,), (74.0,), (75.0,), (75.0,), (74.0,), (72.0,), (74.0,), (74.0,), (74.0,), (74.0,), (74.0,), (72.0,), (70.0,), (75.0,), (74.0,), (71.0,), (71.0,), (70.0,), (73.0,), (71.0,), (71.0,), (77.0,), (77.0,), (74.0,), (73.0,), (75.0,), (75.0,), (74.0,), (74.0,), (75.0,), (75.0,), (72.0,), (74.0,), (76.0,), (76.0,), (75.0,), (75.0,), (74.0,), (72.0,), (74.0,), (75.0,), (70.0,), (71.0,), (72.0,), (71.0,), (73.0,), (74.0,), (72.0,), (74.0,), (76.0,), (72.0,), (75.0,), (75.0,), (72.0,), (70.0,), (76.0,), (78.0,), (72.0,), (74.0,), (74.0,), (72.0,), (71.0,), (79.0,), (79.0,), (76.0,), (75.0,), (72.0,), (74.0,), (76.0,), (76.0,), (77.0,), (75.0,), (76.0,), (75.0,), (75.0,), (76.0,), (76.0,), (74.0,), (70.0,), (69.0,), (70.0,), (68.0,), (70.0,), (74.0,), (75.0,), (74.0,), (71.0,), (73.0,), (75.0,), (74.0,), (76.0,), (76.0,), (76.0,), (76.0,), (75.0,), (75.0,), (75.0,), (74.0,), (73.0,), (76.0,), (74.0,), (78.0,), (71.0,), (75.0,), (75.0,), (74.0,), (77.0,), (77.0,), (76.0,), (76.0,), (76.0,), (78.0,), (76.0,), (75.0,), (75.0,), (76.0,), (78.0,), (75.0,), (73.0,), (76.0,), (76.0,), (76.0,), (77.0,), (76.0,), (77.0,), (72.0,), (77.0,), (75.0,), (82.0,), (77.0,), (76.0,), (74.0,), (73.0,), (77.0,), (77.0,), (77.0,), (76.0,), (74.0,), (73.0,), (72.0,), (74.0,), (73.0,), (72.0,), (75.0,), (74.0,), (75.0,), (73.0,), (75.0,), (76.0,), (74.0,), (74.0,), (73.0,), (73.0,), (76.0,), (75.0,), (70.0,), (75.0,), (73.0,), (74.0,), (74.0,), (74.0,), (74.0,), (70.0,), (75.0,), (74.0,), (73.0,), (74.0,), (72.0,), (73.0,), (67.0,), (69.0,), (76.0,), (73.0,), (70.0,), (72.0,), (74.0,), (72.0,), (72.0,), (75.0,), (73.0,), (73.0,), (72.0,), (74.0,), (76.0,), (72.0,), (74.0,), (70.0,), (74.0,), (74.0,), (74.0,), (71.0,), (75.0,), (75.0,), (76.0,), (77.0,), (75.0,), (74.0,), (75.0,), (76.0,), (78.0,), (78.0,), (76.0,), (78.0,), (76.0,), (76.0,), (78.0,), (79.0,), (77.0,), (76.0,), (77.0,), (77.0,), (76.0,), (78.0,), (76.0,), (76.0,), (77.0,), (71.0,), (74.0,), (72.0,), (77.0,), (77.0,), (78.0,), (77.0,), (77.0,), (76.0,), (75.0,), (79.0,), (75.0,), (73.0,), (76.0,), (78.0,), (77.0,), (78.0,), (76.0,), (75.0,), (76.0,), (77.0,), (74.0,), (78.0,), (77.0,), (77.0,), (74.0,), (74.0,), (78.0,), (79.0,), (79.0,), (78.0,), (75.0,), (76.0,), (78.0,), (78.0,), (74.0,), (78.0,), (77.0,), (76.0,), (78.0,), (78.0,), (78.0,), (78.0,), (74.0,), (79.0,), (77.0,), (73.0,), (79.0,), (79.0,), (78.0,), (77.0,), (78.0,), (78.0,), (80.0,), (80.0,), (79.0,), (74.0,), (71.0,), (74.0,), (75.0,), (75.0,), (74.0,), (76.0,), (75.0,), (77.0,), (77.0,), (79.0,), (79.0,), (78.0,), (79.0,), (73.0,), (78.0,), (79.0,), (80.0,), (76.0,), (79.0,), (79.0,), (77.0,), (80.0,), (79.0,), (78.0,), (78.0,), (79.0,), (78.0,), (81.0,), (78.0,), (80.0,), (79.0,), (81.0,), (80.0,), (81.0,), (79.0,), (81.0,), (78.0,), (79.0,), (79.0,), (75.0,), (79.0,), (78.0,), (80.0,), (78.0,), (77.0,), (78.0,), (79.0,), (76.0,), (80.0,), (76.0,), (81.0,), (77.0,), (76.0,), (77.0,), (75.0,), (76.0,), (79.0,), (79.0,), (77.0,), (76.0,), (77.0,), (76.0,), (73.0,), (76.0,), (77.0,), (77.0,), (78.0,), (77.0,), (76.0,), (78.0,), (78.0,), (75.0,), (77.0,), (65.0,), (76.0,), (74.0,), (76.0,), (76.0,), (77.0,), (77.0,), (76.0,), (77.0,), (76.0,), (77.0,), (74.0,), (76.0,), (73.0,), (75.0,), (76.0,), (75.0,), (76.0,), (75.0,), (74.0,), (74.0,), (74.0,), (74.0,), (76.0,), (76.0,), (77.0,), (77.0,), (78.0,), (73.0,), (75.0,), (72.0,), (76.0,), (76.0,), (73.0,), (74.0,), (72.0,), (76.0,), (76.0,), (76.0,), (78.0,), (78.0,), (78.0,), (78.0,), (75.0,), (77.0,), (73.0,), (78.0,), (75.0,), (73.0,), (77.0,), (80.0,), (70.0,), (78.0,), (72.0,), (78.0,), (72.0,), (78.0,), (77.0,), (79.0,), (77.0,), (78.0,), (74.0,), (79.0,), (79.0,), (79.0,), (79.0,), (77.0,), (79.0,), (78.0,), (80.0,), (81.0,), (81.0,), (78.0,), (77.0,), (78.0,), (79.0,), (77.0,), (79.0,), (80.0,), (79.0,), (78.0,), (79.0,), (79.0,), (79.0,), (81.0,), (64.0,), (65.0,), (75.0,), (76.0,), (78.0,), (77.0,), (75.0,), (78.0,), (81.0,), (78.0,), (76.0,), (73.0,), (74.0,), (76.0,), (78.0,), (79.0,), (78.0,), (72.0,), (78.0,), (80.0,), (81.0,), (79.0,), (78.0,), (80.0,), (80.0,), (78.0,), (80.0,), (81.0,), (78.0,), (77.0,), (78.0,), (78.0,), (77.0,), (76.0,), (81.0,), (76.0,), (82.0,), (80.0,), (80.0,), (79.0,), (74.0,), (69.0,), (70.0,), (67.0,), (70.0,), (73.0,), (73.0,), (72.0,), (72.0,), (77.0,), (70.0,), (78.0,), (73.0,), (75.0,), (70.0,), (74.0,), (77.0,), (69.0,), (73.0,), (73.0,), (74.0,), (73.0,), (72.0,), (75.0,), (73.0,), (76.0,), (74.0,), (76.0,), (73.0,), (76.0,), (76.0,), (78.0,), (75.0,), (77.0,), (75.0,), (73.0,), (76.0,), (71.0,), (71.0,), (76.0,), (76.0,), (76.0,), (73.0,), (78.0,), (77.0,), (77.0,), (77.0,), (78.0,), (78.0,), (76.0,), (76.0,), (79.0,), (74.0,), (75.0,), (76.0,), (75.0,), (73.0,), (76.0,), (78.0,), (76.0,), (79.0,), (77.0,), (76.0,), (74.0,), (75.0,), (76.0,), (76.0,), (76.0,), (79.0,), (76.0,), (72.0,), (71.0,), (72.0,), (76.0,), (74.0,), (75.0,), (76.0,), (77.0,), (76.0,), (75.0,), (76.0,), (76.0,), (76.0,), (75.0,), (76.0,), (76.0,), (79.0,), (74.0,), (73.0,), (75.0,), (74.0,), (75.0,), (76.0,), (72.0,), (74.0,), (74.0,), (75.0,), (75.0,), (74.0,), (75.0,), (77.0,), (75.0,), (74.0,), (75.0,), (74.0,), (75.0,), (73.0,), (75.0,), (76.0,), (76.0,), (76.0,), (79.0,), (74.0,), (78.0,), (80.0,), (75.0,), (72.0,), (72.0,), (74.0,), (78.0,), (76.0,), (77.0,), (72.0,), (72.0,), (73.0,), (75.0,), (79.0,), (81.0,), (76.0,), (76.0,), (77.0,), (78.0,), (79.0,), (79.0,), (75.0,), (79.0,), (79.0,), (75.0,), (77.0,), (81.0,), (76.0,), (75.0,), (78.0,), (81.0,), (76.0,), (76.0,), (76.0,), (72.0,), (73.0,), (74.0,), (74.0,), (75.0,), (73.0,), (73.0,), (76.0,), (73.0,), (79.0,), (78.0,), (76.0,), (76.0,), (76.0,), (77.0,), (79.0,), (80.0,), (78.0,), (76.0,), (78.0,), (78.0,), (77.0,), (79.0,), (79.0,), (75.0,), (76.0,), (77.0,), (74.0,), (77.0,), (76.0,), (76.0,), (75.0,), (74.0,), (79.0,), (76.0,), (74.0,), (76.0,), (77.0,), (78.0,), (77.0,), (75.0,), (75.0,), (80.0,), (77.0,), (77.0,), (77.0,), (80.0,), (76.0,), (78.0,), (77.0,), (79.0,), (79.0,), (77.0,), (75.0,), (76.0,), (78.0,), (78.0,), (80.0,), (78.0,), (79.0,), (79.0,), (77.0,), (77.0,), (81.0,), (75.0,), (72.0,), (75.0,), (75.0,), (75.0,), (75.0,), (73.0,), (78.0,), (77.0,), (80.0,), (72.0,), (78.0,), (78.0,), (77.0,), (78.0,), (79.0,), (80.0,), (76.0,), (77.0,), (79.0,), (79.0,), (77.0,), (79.0,), (80.0,), (80.0,), (77.0,), (79.0,), (81.0,), (78.0,), (80.0,), (79.0,), (79.0,), (81.0,), (79.0,), (81.0,), (78.0,), (78.0,), (78.0,), (77.0,), (78.0,), (75.0,), (81.0,), (80.0,), (77.0,), (80.0,), (78.0,), (80.0,), (77.0,), (78.0,), (78.0,), (80.0,), (80.0,), (79.0,), (82.0,), (80.0,), (81.0,), (81.0,), (79.0,), (78.0,), (75.0,), (71.0,), (71.0,), (72.0,), (72.0,), (76.0,), (77.0,), (71.0,), (73.0,), (73.0,), (75.0,), (81.0,), (74.0,), (77.0,), (70.0,), (69.0,), (70.0,), (72.0,), (71.0,), (77.0,), (76.0,), (74.0,), (74.0,), (74.0,), (74.0,), (71.0,), (80.0,), (77.0,), (72.0,), (72.0,), (73.0,), (72.0,), (73.0,), (73.0,), (77.0,), (76.0,), (79.0,), (78.0,), (82.0,), (79.0,), (76.0,), (74.0,), (74.0,), (73.0,), (79.0,), (77.0,), (73.0,), (72.0,), (72.0,), (73.0,), (74.0,), (77.0,), (73.0,), (73.0,), (72.0,), (72.0,), (67.0,), (71.0,), (73.0,), (78.0,), (71.0,), (72.0,), (70.0,), (72.0,), (73.0,), (74.0,), (81.0,), (72.0,), (77.0,), (69.0,), (69.0,), (69.0,), (78.0,), (78.0,), (73.0,), (72.0,), (71.0,), (72.0,), (72.0,), (73.0,), (71.0,), (70.0,), (71.0,), (68.0,), (72.0,), (71.0,), (78.0,), (81.0,), (74.0,), (74.0,), (73.0,), (73.0,), (72.0,), (73.0,), (77.0,), (73.0,), (73.0,), (75.0,), (72.0,), (72.0,), (73.0,), (73.0,), (75.0,), (72.0,), (73.0,), (70.0,), (69.0,), (68.0,), (75.0,), (74.0,), (73.0,), (70.0,), (70.0,), (71.0,), (70.0,), (70.0,), (75.0,), (74.0,), (72.0,), (74.0,), (73.0,), (73.0,), (70.0,), (73.0,), (75.0,), (73.0,), (69.0,), (80.0,), (73.0,), (72.0,), (80.0,), (80.0,), (69.0,), (70.0,), (69.0,), (72.0,), (68.0,), (74.0,), (75.0,), (70.0,), (70.0,), (72.0,), (71.0,), (70.0,), (77.0,), (73.0,), (71.0,), (76.0,), (68.0,), (71.0,), (70.0,), (68.0,), (79.0,), (75.0,), (71.0,), (69.0,), (71.0,), (72.0,), (69.0,), (72.0,), (75.0,), (71.0,), (72.0,), (70.0,), (71.0,), (72.0,), (75.0,), (75.0,), (71.0,), (73.0,), (71.0,), (71.0,), (74.0,), (74.0,), (78.0,), (72.0,), (69.0,), (69.0,), (67.0,), (68.0,), (65.0,), (70.0,), (72.0,), (74.0,), (73.0,), (71.0,), (75.0,), (72.0,), (75.0,), (76.0,), (75.0,), (76.0,), (75.0,), (71.0,), (75.0,), (75.0,), (72.0,), (72.0,), (75.0,), (73.0,), (76.0,), (74.0,), (77.0,), (72.0,), (71.0,), (76.0,), (77.0,), (80.0,), (76.0,), (76.0,), (77.0,), (75.0,), (75.0,), (75.0,), (75.0,), (72.0,), (74.0,), (74.0,), (74.0,), (76.0,), (74.0,), (75.0,), (73.0,), (79.0,), (75.0,), (72.0,), (72.0,), (74.0,), (72.0,), (72.0,), (77.0,), (71.0,), (73.0,), (76.0,), (77.0,), (76.0,), (76.0,), (74.0,), (76.0,), (78.0,), (74.0,), (79.0,), (79.0,), (69.0,), (77.0,), (80.0,), (75.0,), (75.0,), (78.0,), (71.0,), (76.0,), (74.0,), (78.0,), (72.0,), (78.0,), (85.0,), (77.0,), (76.0,), (76.0,), (75.0,), (71.0,), (70.0,), (80.0,), (77.0,), (70.0,), (73.0,), (73.0,), (76.0,), (70.0,), (71.0,), (80.0,), (70.0,), (68.0,), (74.0,), (75.0,), (75.0,), (78.0,), (76.0,), (69.0,), (73.0,), (76.0,), (72.0,), (72.0,), (80.0,), (76.0,), (71.0,), (68.0,), (71.0,), (72.0,), (75.0,), (80.0,), (75.0,), (74.0,), (74.0,), (69.0,), (70.0,), (73.0,), (76.0,), (76.0,), (74.0,), (71.0,), (72.0,), (73.0,), (77.0,), (77.0,), (77.0,), (79.0,), (77.0,), (77.0,), (78.0,), (78.0,), (81.0,), (76.0,), (74.0,), (71.0,), (78.0,), (71.0,), (76.0,), (81.0,), (73.0,), (72.0,), (72.0,), (74.0,), (72.0,), (79.0,), (80.0,), (81.0,), (75.0,), (80.0,), (73.0,), (74.0,), (73.0,), (81.0,), (79.0,), (78.0,), (74.0,), (74.0,), (73.0,), (73.0,), (77.0,), (77.0,), (74.0,), (73.0,), (70.0,), (69.0,), (72.0,), (79.0,), (77.0,), (70.0,), (71.0,), (67.0,), (66.0,), (78.0,), (80.0,), (80.0,), (79.0,), (68.0,), (67.0,), (71.0,), (72.0,), (79.0,), (80.0,), (72.0,), (68.0,), (84.0,), (82.0,), (79.0,), (78.0,), (81.0,), (77.0,), (71.0,), (69.0,), (73.0,), (68.0,), (75.0,), (79.0,), (70.0,), (70.0,), (73.0,), (71.0,), (68.0,), (78.0,), (69.0,), (70.0,), (67.0,), (68.0,), (68.0,), (71.0,), (74.0,), (69.0,), (69.0,), (66.0,), (67.0,), (69.0,), (72.0,), (72.0,), (72.0,), (70.0,), (75.0,), (73.0,), (70.0,), (71.0,), (70.0,), (78.0,), (73.0,), (68.0,), (79.0,), (74.0,), (75.0,), (71.0,), (75.0,), (76.0,), (73.0,), (73.0,), (74.0,), (72.0,), (72.0,), (72.0,), (70.0,), (69.0,), (73.0,), (71.0,), (73.0,), (72.0,), (69.0,), (72.0,), (66.0,), (67.0,), (71.0,), (71.0,), (72.0,), (72.0,), (71.0,), (71.0,), (71.0,), (69.0,), (68.0,), (71.0,), (73.0,), (72.0,), (74.0,), (70.0,), (72.0,), (71.0,), (71.0,), (70.0,), (70.0,), (69.0,), (74.0,), (69.0,), (72.0,), (70.0,), (72.0,), (72.0,), (69.0,), (73.0,), (71.0,), (72.0,), (71.0,), (72.0,), (71.0,), (74.0,), (74.0,), (75.0,), (69.0,), (75.0,), (70.0,), (73.0,), (72.0,), (70.0,), (73.0,), (71.0,), (70.0,), (69.0,), (71.0,), (68.0,), (68.0,), (68.0,), (69.0,), (69.0,), (69.0,), (71.0,), (78.0,), (72.0,), (73.0,), (71.0,), (72.0,), (72.0,), (71.0,), (74.0,), (71.0,), (72.0,), (72.0,), (74.0,), (72.0,), (69.0,), (70.0,), (76.0,), (70.0,), (71.0,), (73.0,), (68.0,), (68.0,), (69.0,), (70.0,), (69.0,), (69.0,), (70.0,), (71.0,), (70.0,), (67.0,), (72.0,), (72.0,), (75.0,), (73.0,), (73.0,), (72.0,), (71.0,), (77.0,), (73.0,), (70.0,), (70.0,), (76.0,), (72.0,), (73.0,), (77.0,), (73.0,), (70.0,), (68.0,), (69.0,), (70.0,), (70.0,), (73.0,), (70.0,), (69.0,), (71.0,), (70.0,), (70.0,), (72.0,), (71.0,), (70.0,), (69.0,), (72.0,), (72.0,), (71.0,), (76.0,), (71.0,), (72.0,), (70.0,), (72.0,), (72.0,), (71.0,), (72.0,), (69.0,), (70.0,), (73.0,), (70.0,), (72.0,), (72.0,), (71.0,), (73.0,), (72.0,), (73.0,), (72.0,), (71.0,), (70.0,), (75.0,), (72.0,), (70.0,), (72.0,), (70.0,), (71.0,), (70.0,), (73.0,), (72.0,), (71.0,), (71.0,), (69.0,), (70.0,), (73.0,), (75.0,), (73.0,), (72.0,), (70.0,), (70.0,), (69.0,), (73.0,), (74.0,), (72.0,), (71.0,), (73.0,), (72.0,), (73.0,), (74.0,), (72.0,), (74.0,), (72.0,), (74.0,), (74.0,), (77.0,), (74.0,), (74.0,), (79.0,), (75.0,), (72.0,), (76.0,), (74.0,), (73.0,), (74.0,), (77.0,), (74.0,), (72.0,), (77.0,), (76.0,), (74.0,), (75.0,), (76.0,), (71.0,), (73.0,), (79.0,), (79.0,), (74.0,), (74.0,), (76.0,), (75.0,)]\n"
     ]
    }
   ],
   "source": [
    "# Import the sqlalchemy extract function.\n",
    "from sqlalchemy import extract\n",
    "\n",
    "# 1. Write a query that filters the Measurement table to retrieve the temperatures for the month of June. \n",
    "\n",
    "# I am going to import date time and create two time variables. If I use this method I should be able to write\n",
    "# a function that accepts dates and I can easily reuse when analysing the December data too\n",
    "\n",
    "month = 6\n",
    "\n",
    "def temp_extract(month):\n",
    "    \n",
    "    # Extract the desired data\n",
    "    data = session.query(Measurement.tobs).filter(extract('month', Measurement.date)== month).all()\n",
    "\n",
    "    print(data)\n",
    "\n",
    "temp_extract(month)"
   ]
  },
  {
   "cell_type": "code",
   "execution_count": 109,
   "metadata": {},
   "outputs": [
    {
     "name": "stdout",
     "output_type": "stream",
     "text": [
      "[78. 76. 78. ... 74. 76. 75.]\n"
     ]
    }
   ],
   "source": [
    "# 2. Convert the June temperatures to a list.\n",
    "\n",
    "# I can continue to modify my function to include a statement to convert the data to a list. \n",
    "\n",
    "list_data=[]\n",
    "\n",
    "def temp_extract(month):\n",
    "    \n",
    "    # Extract the desired data\n",
    "    data = session.query(Measurement.tobs).filter(extract('month', Measurement.date)== month).all()\n",
    "\n",
    "    # Convert the data format to a list\n",
    "    list_data = np.ravel(data)\n",
    "        \n",
    "    print(list_data)\n",
    "temp_extract(6)"
   ]
  },
  {
   "cell_type": "code",
   "execution_count": 112,
   "metadata": {},
   "outputs": [
    {
     "data": {
      "text/html": [
       "<div>\n",
       "<style scoped>\n",
       "    .dataframe tbody tr th:only-of-type {\n",
       "        vertical-align: middle;\n",
       "    }\n",
       "\n",
       "    .dataframe tbody tr th {\n",
       "        vertical-align: top;\n",
       "    }\n",
       "\n",
       "    .dataframe thead th {\n",
       "        text-align: right;\n",
       "    }\n",
       "</style>\n",
       "<table border=\"1\" class=\"dataframe\">\n",
       "  <thead>\n",
       "    <tr style=\"text-align: right;\">\n",
       "      <th></th>\n",
       "      <th>Temps</th>\n",
       "    </tr>\n",
       "  </thead>\n",
       "  <tbody>\n",
       "    <tr>\n",
       "      <th>0</th>\n",
       "      <td>78.0</td>\n",
       "    </tr>\n",
       "    <tr>\n",
       "      <th>1</th>\n",
       "      <td>76.0</td>\n",
       "    </tr>\n",
       "    <tr>\n",
       "      <th>2</th>\n",
       "      <td>78.0</td>\n",
       "    </tr>\n",
       "    <tr>\n",
       "      <th>3</th>\n",
       "      <td>76.0</td>\n",
       "    </tr>\n",
       "    <tr>\n",
       "      <th>4</th>\n",
       "      <td>77.0</td>\n",
       "    </tr>\n",
       "    <tr>\n",
       "      <th>...</th>\n",
       "      <td>...</td>\n",
       "    </tr>\n",
       "    <tr>\n",
       "      <th>1695</th>\n",
       "      <td>79.0</td>\n",
       "    </tr>\n",
       "    <tr>\n",
       "      <th>1696</th>\n",
       "      <td>74.0</td>\n",
       "    </tr>\n",
       "    <tr>\n",
       "      <th>1697</th>\n",
       "      <td>74.0</td>\n",
       "    </tr>\n",
       "    <tr>\n",
       "      <th>1698</th>\n",
       "      <td>76.0</td>\n",
       "    </tr>\n",
       "    <tr>\n",
       "      <th>1699</th>\n",
       "      <td>75.0</td>\n",
       "    </tr>\n",
       "  </tbody>\n",
       "</table>\n",
       "<p>1700 rows × 1 columns</p>\n",
       "</div>"
      ],
      "text/plain": [
       "      Temps\n",
       "0      78.0\n",
       "1      76.0\n",
       "2      78.0\n",
       "3      76.0\n",
       "4      77.0\n",
       "...     ...\n",
       "1695   79.0\n",
       "1696   74.0\n",
       "1697   74.0\n",
       "1698   76.0\n",
       "1699   75.0\n",
       "\n",
       "[1700 rows x 1 columns]"
      ]
     },
     "execution_count": 112,
     "metadata": {},
     "output_type": "execute_result"
    }
   ],
   "source": [
    "# 3. Create a DataFrame from the list of temperatures for the month of June. \n",
    "\n",
    "# Continuing my theme I am going to add another element to my function, convert to a dataframe\n",
    "import pandas as pd\n",
    "\n",
    "def temp_extract(month):\n",
    "    \n",
    "    # Extract the desired data\n",
    "    data = session.query(Measurement.tobs).filter(extract('month', Measurement.date)== month).all()\n",
    "\n",
    "    # Convert the data format to a list\n",
    "    list_data = np.ravel(data)\n",
    "    \n",
    "    # Convert list to data frame \n",
    "    data_df = pd.DataFrame(list_data, columns=['Temps'])\n",
    "    \n",
    "    return data_df\n",
    "    \n",
    "temp_extract(6)"
   ]
  },
  {
   "cell_type": "code",
   "execution_count": 115,
   "metadata": {},
   "outputs": [
    {
     "data": {
      "text/html": [
       "<div>\n",
       "<style scoped>\n",
       "    .dataframe tbody tr th:only-of-type {\n",
       "        vertical-align: middle;\n",
       "    }\n",
       "\n",
       "    .dataframe tbody tr th {\n",
       "        vertical-align: top;\n",
       "    }\n",
       "\n",
       "    .dataframe thead th {\n",
       "        text-align: right;\n",
       "    }\n",
       "</style>\n",
       "<table border=\"1\" class=\"dataframe\">\n",
       "  <thead>\n",
       "    <tr style=\"text-align: right;\">\n",
       "      <th></th>\n",
       "      <th>Temps</th>\n",
       "    </tr>\n",
       "  </thead>\n",
       "  <tbody>\n",
       "    <tr>\n",
       "      <th>count</th>\n",
       "      <td>1700.000000</td>\n",
       "    </tr>\n",
       "    <tr>\n",
       "      <th>mean</th>\n",
       "      <td>74.944118</td>\n",
       "    </tr>\n",
       "    <tr>\n",
       "      <th>std</th>\n",
       "      <td>3.257417</td>\n",
       "    </tr>\n",
       "    <tr>\n",
       "      <th>min</th>\n",
       "      <td>64.000000</td>\n",
       "    </tr>\n",
       "    <tr>\n",
       "      <th>25%</th>\n",
       "      <td>73.000000</td>\n",
       "    </tr>\n",
       "    <tr>\n",
       "      <th>50%</th>\n",
       "      <td>75.000000</td>\n",
       "    </tr>\n",
       "    <tr>\n",
       "      <th>75%</th>\n",
       "      <td>77.000000</td>\n",
       "    </tr>\n",
       "    <tr>\n",
       "      <th>max</th>\n",
       "      <td>85.000000</td>\n",
       "    </tr>\n",
       "  </tbody>\n",
       "</table>\n",
       "</div>"
      ],
      "text/plain": [
       "             Temps\n",
       "count  1700.000000\n",
       "mean     74.944118\n",
       "std       3.257417\n",
       "min      64.000000\n",
       "25%      73.000000\n",
       "50%      75.000000\n",
       "75%      77.000000\n",
       "max      85.000000"
      ]
     },
     "execution_count": 115,
     "metadata": {},
     "output_type": "execute_result"
    }
   ],
   "source": [
    "# 4. Calculate and print out the summary statistics for the June temperature DataFrame.\n",
    "\n",
    "def temp_extract(month):\n",
    "    \n",
    "    # Extract the desired data\n",
    "    data = session.query(Measurement.tobs).filter(extract('month', Measurement.date)== month).all()\n",
    "\n",
    "    # Convert the data format to a list\n",
    "    list_data = np.ravel(data)\n",
    "    \n",
    "    # Convert list to data frame \n",
    "    data_df = pd.DataFrame(list_data, columns=['Temps'])\n",
    "    \n",
    "    return data_df.describe()\n",
    "    \n",
    "temp_extract(6)"
   ]
  },
  {
   "cell_type": "code",
   "execution_count": null,
   "metadata": {},
   "outputs": [],
   "source": [
    "# 5. Return to your challenge instructions to compare your summary statistics\n",
    "\n",
    "# My summary statistics matched, which means my function is working and I can solve\n",
    "# deliverable 2 with one line of code!"
   ]
  },
  {
   "cell_type": "markdown",
   "metadata": {},
   "source": [
    "## D2: Determine the Summary Statistics for December"
   ]
  },
  {
   "cell_type": "code",
   "execution_count": null,
   "metadata": {},
   "outputs": [],
   "source": [
    "# 6. Write a query that filters the Measurement table to retrieve the temperatures for the month of December.\n"
   ]
  },
  {
   "cell_type": "code",
   "execution_count": null,
   "metadata": {},
   "outputs": [],
   "source": [
    "# 7. Convert the December temperatures to a list.\n"
   ]
  },
  {
   "cell_type": "code",
   "execution_count": null,
   "metadata": {},
   "outputs": [],
   "source": [
    "# 8. Create a DataFrame from the list of temperatures for the month of December. \n"
   ]
  },
  {
   "cell_type": "code",
   "execution_count": 116,
   "metadata": {},
   "outputs": [
    {
     "data": {
      "text/html": [
       "<div>\n",
       "<style scoped>\n",
       "    .dataframe tbody tr th:only-of-type {\n",
       "        vertical-align: middle;\n",
       "    }\n",
       "\n",
       "    .dataframe tbody tr th {\n",
       "        vertical-align: top;\n",
       "    }\n",
       "\n",
       "    .dataframe thead th {\n",
       "        text-align: right;\n",
       "    }\n",
       "</style>\n",
       "<table border=\"1\" class=\"dataframe\">\n",
       "  <thead>\n",
       "    <tr style=\"text-align: right;\">\n",
       "      <th></th>\n",
       "      <th>Temps</th>\n",
       "    </tr>\n",
       "  </thead>\n",
       "  <tbody>\n",
       "    <tr>\n",
       "      <th>count</th>\n",
       "      <td>1517.000000</td>\n",
       "    </tr>\n",
       "    <tr>\n",
       "      <th>mean</th>\n",
       "      <td>71.041529</td>\n",
       "    </tr>\n",
       "    <tr>\n",
       "      <th>std</th>\n",
       "      <td>3.745920</td>\n",
       "    </tr>\n",
       "    <tr>\n",
       "      <th>min</th>\n",
       "      <td>56.000000</td>\n",
       "    </tr>\n",
       "    <tr>\n",
       "      <th>25%</th>\n",
       "      <td>69.000000</td>\n",
       "    </tr>\n",
       "    <tr>\n",
       "      <th>50%</th>\n",
       "      <td>71.000000</td>\n",
       "    </tr>\n",
       "    <tr>\n",
       "      <th>75%</th>\n",
       "      <td>74.000000</td>\n",
       "    </tr>\n",
       "    <tr>\n",
       "      <th>max</th>\n",
       "      <td>83.000000</td>\n",
       "    </tr>\n",
       "  </tbody>\n",
       "</table>\n",
       "</div>"
      ],
      "text/plain": [
       "             Temps\n",
       "count  1517.000000\n",
       "mean     71.041529\n",
       "std       3.745920\n",
       "min      56.000000\n",
       "25%      69.000000\n",
       "50%      71.000000\n",
       "75%      74.000000\n",
       "max      83.000000"
      ]
     },
     "execution_count": 116,
     "metadata": {},
     "output_type": "execute_result"
    }
   ],
   "source": [
    "# 9. Calculate and print out the summary statistics for the Decemeber temperature DataFrame.\n",
    "\n",
    "# See the work & documentation completed in Deliverable 1 to see the inner workings of the\n",
    "# temp_extract function. \n",
    "\n",
    "temp_extract(12)\n"
   ]
  },
  {
   "cell_type": "code",
   "execution_count": null,
   "metadata": {},
   "outputs": [],
   "source": [
    "# 10. Return to your challenge instructions to compare your summary statistics\n",
    "\n",
    "# Success! My summary results match those of the instructions."
   ]
  },
  {
   "cell_type": "markdown",
   "metadata": {},
   "source": [
    "# Creating a unique visual representation of the data"
   ]
  },
  {
   "cell_type": "code",
   "execution_count": null,
   "metadata": {},
   "outputs": [],
   "source": [
    "# First I want to collect the temperature data for each of the months. Avg, min, max, std.\n",
    "# Then I will create a new df for the new data and create a graph\n",
    "\n"
   ]
  },
  {
   "cell_type": "code",
   "execution_count": 45,
   "metadata": {},
   "outputs": [
    {
     "data": {
      "image/png": "[encoded data removed]",
      "text/plain": [
       "<Figure size 432x288 with 1 Axes>"
      ]
     },
     "metadata": {
      "needs_background": "light"
     },
     "output_type": "display_data"
    }
   ],
   "source": [
    "# Extract the desired data\n",
    "data1 = session.query(Measurement.date, Measurement.tobs).filter(extract('month', Measurement.date)== 1).all()\n",
    "\n",
    "    # Convert the data format to a list\n",
    "list_data1 = list(data1)\n",
    "    \n",
    "    # Convert list to data frame \n",
    "data_df_1 = pd.DataFrame(list_data1, columns=['Date', 'Jan'])\n",
    "ax1 = data_df_1.boxplot()\n"
   ]
  },
  {
   "cell_type": "code",
   "execution_count": 58,
   "metadata": {},
   "outputs": [
    {
     "data": {
      "text/plain": [
       "<AxesSubplot:>"
      ]
     },
     "execution_count": 58,
     "metadata": {},
     "output_type": "execute_result"
    },
    {
     "data": {
      "image/png": "[encoded data removed]",
      "text/plain": [
       "<Figure size 432x288 with 1 Axes>"
      ]
     },
     "metadata": {
      "needs_background": "light"
     },
     "output_type": "display_data"
    }
   ],
   "source": [
    "data2 = session.query(Measurement.date, Measurement.tobs).filter(extract('month', Measurement.date)== 2).all()\n",
    "\n",
    "    # Convert the data format to a list\n",
    "list_data2 = list(data2)\n",
    "    \n",
    "    # Convert list to data frame \n",
    "data_df_2 = pd.DataFrame(list_data2, columns=['Date', 'Feb'])\n",
    "data_df_2.head()\n",
    "data_df_2.head()\n",
    "data_df_2.boxplot()"
   ]
  },
  {
   "cell_type": "code",
   "execution_count": 57,
   "metadata": {},
   "outputs": [],
   "source": [
    "# march\n",
    "data3 = session.query(Measurement.date, Measurement.tobs).filter(extract('month', Measurement.date)== 3).all()\n",
    "list_data3 = list(data3)\n",
    "data_df_3 = pd.DataFrame(list_data3, columns=['Date', 'March'])\n",
    "\n",
    "# april\n",
    "data4 = session.query(Measurement.date, Measurement.tobs).filter(extract('month', Measurement.date)== 4).all()\n",
    "list_data4 = list(data4)\n",
    "data_df_4 = pd.DataFrame(list_data4, columns=['Date', 'April'])\n",
    "\n",
    "# may\n",
    "data5 = session.query(Measurement.date, Measurement.tobs).filter(extract('month', Measurement.date)== 5).all()\n",
    "list_data5 = list(data5)\n",
    "data_df_5 = pd.DataFrame(list_data5, columns=['Date', 'May'])\n",
    "\n",
    "#june\n",
    "data6 = session.query(Measurement.date, Measurement.tobs).filter(extract('month', Measurement.date)== 6).all()\n",
    "list_data6 = list(data6)\n",
    "data_df_6 = pd.DataFrame(list_data6, columns=['Date', 'June'])\n",
    "\n",
    "#july\n",
    "data7 = session.query(Measurement.date, Measurement.tobs).filter(extract('month', Measurement.date)== 7).all()\n",
    "list_data7 = list(data7)\n",
    "data_df_7 = pd.DataFrame(list_data7, columns=['Date', 'July'])\n",
    "\n",
    "#aug\n",
    "data8 = session.query(Measurement.date, Measurement.tobs).filter(extract('month', Measurement.date)== 8).all()\n",
    "list_data8 = list(data8)\n",
    "data_df_8 = pd.DataFrame(list_data8, columns=['Date', 'August'])\n",
    "\n",
    "#sep\n",
    "data9 = session.query(Measurement.date, Measurement.tobs).filter(extract('month', Measurement.date)== 9).all()\n",
    "list_data9 = list(data9)\n",
    "data_df_9 = pd.DataFrame(list_data9, columns=['Date', 'September'])\n",
    "\n",
    "#oct\n",
    "data10 = session.query(Measurement.date, Measurement.tobs).filter(extract('month', Measurement.date)== 10).all()\n",
    "list_data10 = list(data10)\n",
    "data_df_10 = pd.DataFrame(list_data10, columns=['Date', 'October'])\n",
    "\n",
    "#nov\n",
    "data11 = session.query(Measurement.date, Measurement.tobs).filter(extract('month', Measurement.date)== 11).all()\n",
    "list_data11 = list(data11)\n",
    "data_df_11 = pd.DataFrame(list_data11, columns=['Date', 'November'])\n",
    "\n",
    "#dec\n",
    "data12 = session.query(Measurement.date, Measurement.tobs).filter(extract('month', Measurement.date)== 12).all()\n",
    "list_data12 = list(data12)\n",
    "data_df_12 = pd.DataFrame(list_data12, columns=['Date', 'December'])"
   ]
  },
  {
   "cell_type": "code",
   "execution_count": 69,
   "metadata": {},
   "outputs": [
    {
     "name": "stdout",
     "output_type": "stream",
     "text": [
      "<class 'pandas.core.frame.DataFrame'>\n",
      "RangeIndex: 1727 entries, 0 to 1726\n",
      "Data columns (total 12 columns):\n",
      " #   Column     Non-Null Count  Dtype  \n",
      "---  ------     --------------  -----  \n",
      " 0   Jan        1727 non-null   float64\n",
      " 1   February   1610 non-null   float64\n",
      " 2   March      1693 non-null   float64\n",
      " 3   April      1713 non-null   float64\n",
      " 4   May        1727 non-null   float64\n",
      " 5   June       1700 non-null   float64\n",
      " 6   July       1711 non-null   float64\n",
      " 7   August     1622 non-null   float64\n",
      " 8   September  1480 non-null   float64\n",
      " 9   October    1556 non-null   float64\n",
      " 10  November   1488 non-null   float64\n",
      " 11  December   1517 non-null   float64\n",
      "dtypes: float64(12)\n",
      "memory usage: 162.0 KB\n"
     ]
    }
   ],
   "source": [
    "data_df_1['February'] = data_df_2['Feb']\n",
    "data_df_1['March'] = data_df_3['March']\n",
    "data_df_1['April']= data_df_4['April']\n",
    "data_df_1['May']= data_df_5['May']\n",
    "data_df_1['June']=data_df_6['June']\n",
    "data_df_1['July']= data_df_7['July']\n",
    "data_df_1['August']= data_df_8['August']\n",
    "data_df_1['September']= data_df_9['September']\n",
    "data_df_1['October']= data_df_10['October']\n",
    "data_df_1['November']= data_df_11['November']\n",
    "data_df_1['December']= data_df_12['December']\n",
    "#data_df_1 = data_df_1.drop('Date', axis=1)\n",
    "data_df_1.info()"
   ]
  },
  {
   "cell_type": "code",
   "execution_count": 99,
   "metadata": {},
   "outputs": [
    {
     "data": {
      "text/plain": [
       "Text(0, 0.5, 'Temperatures')"
      ]
     },
     "execution_count": 99,
     "metadata": {},
     "output_type": "execute_result"
    },
    {
     "data": {
      "image/png": "[encoded data removed]",
      "text/plain": [
       "<Figure size 1152x720 with 1 Axes>"
      ]
     },
     "metadata": {
      "needs_background": "light"
     },
     "output_type": "display_data"
    }
   ],
   "source": [
    "data_df_1.boxplot(figsize=(16,10), rot=45, fontsize=14)\n",
    "\n",
    "plt.title('Observed Temperature Distributions Collected from 2010 to 2017',fontsize=24)\n",
    "plt.xlabel('Month of the Year', fontsize=18)\n",
    "plt.ylabel('Temperatures', fontsize = 18)\n"
   ]
  },
  {
   "cell_type": "code",
   "execution_count": 100,
   "metadata": {},
   "outputs": [
    {
     "data": {
      "text/html": [
       "<div>\n",
       "<style scoped>\n",
       "    .dataframe tbody tr th:only-of-type {\n",
       "        vertical-align: middle;\n",
       "    }\n",
       "\n",
       "    .dataframe tbody tr th {\n",
       "        vertical-align: top;\n",
       "    }\n",
       "\n",
       "    .dataframe thead th {\n",
       "        text-align: right;\n",
       "    }\n",
       "</style>\n",
       "<table border=\"1\" class=\"dataframe\">\n",
       "  <thead>\n",
       "    <tr style=\"text-align: right;\">\n",
       "      <th></th>\n",
       "      <th>Jan</th>\n",
       "      <th>February</th>\n",
       "      <th>March</th>\n",
       "      <th>April</th>\n",
       "      <th>May</th>\n",
       "      <th>June</th>\n",
       "      <th>July</th>\n",
       "      <th>August</th>\n",
       "      <th>September</th>\n",
       "      <th>October</th>\n",
       "      <th>November</th>\n",
       "      <th>December</th>\n",
       "    </tr>\n",
       "  </thead>\n",
       "  <tbody>\n",
       "    <tr>\n",
       "      <th>0</th>\n",
       "      <td>65.0</td>\n",
       "      <td>66.0</td>\n",
       "      <td>70.0</td>\n",
       "      <td>74.0</td>\n",
       "      <td>77.0</td>\n",
       "      <td>78.0</td>\n",
       "      <td>75.0</td>\n",
       "      <td>77.0</td>\n",
       "      <td>77.0</td>\n",
       "      <td>78.0</td>\n",
       "      <td>75.0</td>\n",
       "      <td>76.0</td>\n",
       "    </tr>\n",
       "    <tr>\n",
       "      <th>1</th>\n",
       "      <td>63.0</td>\n",
       "      <td>67.0</td>\n",
       "      <td>72.0</td>\n",
       "      <td>74.0</td>\n",
       "      <td>73.0</td>\n",
       "      <td>76.0</td>\n",
       "      <td>77.0</td>\n",
       "      <td>76.0</td>\n",
       "      <td>76.0</td>\n",
       "      <td>78.0</td>\n",
       "      <td>73.0</td>\n",
       "      <td>74.0</td>\n",
       "    </tr>\n",
       "    <tr>\n",
       "      <th>2</th>\n",
       "      <td>74.0</td>\n",
       "      <td>69.0</td>\n",
       "      <td>73.0</td>\n",
       "      <td>74.0</td>\n",
       "      <td>74.0</td>\n",
       "      <td>78.0</td>\n",
       "      <td>77.0</td>\n",
       "      <td>77.0</td>\n",
       "      <td>78.0</td>\n",
       "      <td>78.0</td>\n",
       "      <td>73.0</td>\n",
       "      <td>74.0</td>\n",
       "    </tr>\n",
       "    <tr>\n",
       "      <th>3</th>\n",
       "      <td>76.0</td>\n",
       "      <td>67.0</td>\n",
       "      <td>70.0</td>\n",
       "      <td>71.0</td>\n",
       "      <td>76.0</td>\n",
       "      <td>76.0</td>\n",
       "      <td>78.0</td>\n",
       "      <td>77.0</td>\n",
       "      <td>77.0</td>\n",
       "      <td>78.0</td>\n",
       "      <td>77.0</td>\n",
       "      <td>64.0</td>\n",
       "    </tr>\n",
       "    <tr>\n",
       "      <th>4</th>\n",
       "      <td>73.0</td>\n",
       "      <td>67.0</td>\n",
       "      <td>71.0</td>\n",
       "      <td>72.0</td>\n",
       "      <td>76.0</td>\n",
       "      <td>77.0</td>\n",
       "      <td>78.0</td>\n",
       "      <td>75.0</td>\n",
       "      <td>77.0</td>\n",
       "      <td>80.0</td>\n",
       "      <td>76.0</td>\n",
       "      <td>64.0</td>\n",
       "    </tr>\n",
       "  </tbody>\n",
       "</table>\n",
       "</div>"
      ],
      "text/plain": [
       "    Jan  February  March  April   May  June  July  August  September  October  \\\n",
       "0  65.0      66.0   70.0   74.0  77.0  78.0  75.0    77.0       77.0     78.0   \n",
       "1  63.0      67.0   72.0   74.0  73.0  76.0  77.0    76.0       76.0     78.0   \n",
       "2  74.0      69.0   73.0   74.0  74.0  78.0  77.0    77.0       78.0     78.0   \n",
       "3  76.0      67.0   70.0   71.0  76.0  76.0  78.0    77.0       77.0     78.0   \n",
       "4  73.0      67.0   71.0   72.0  76.0  77.0  78.0    75.0       77.0     80.0   \n",
       "\n",
       "   November  December  \n",
       "0      75.0      76.0  \n",
       "1      73.0      74.0  \n",
       "2      73.0      74.0  \n",
       "3      77.0      64.0  \n",
       "4      76.0      64.0  "
      ]
     },
     "execution_count": 100,
     "metadata": {},
     "output_type": "execute_result"
    }
   ],
   "source": [
    "data_df_1.head()"
   ]
  },
  {
   "cell_type": "code",
   "execution_count": 85,
   "metadata": {},
   "outputs": [
    {
     "data": {
      "text/plain": [
       "71.04152933421226"
      ]
     },
     "execution_count": 85,
     "metadata": {},
     "output_type": "execute_result"
    }
   ],
   "source": [
    "data_df_1['December'].mean()"
   ]
  },
  {
   "cell_type": "code",
   "execution_count": null,
   "metadata": {},
   "outputs": [],
   "source": []
  }
 ],
 "metadata": {
  "kernelspec": {
   "display_name": "Python 3 (ipykernel)",
   "language": "python",
   "name": "python3"
  },
  "language_info": {
   "codemirror_mode": {
    "name": "ipython",
    "version": 3
   },
   "file_extension": ".py",
   "mimetype": "text/x-python",
   "name": "python",
   "nbconvert_exporter": "python",
   "pygments_lexer": "ipython3",
   "version": "3.8.10"
  }
 },
 "nbformat": 4,
 "nbformat_minor": 2
}
